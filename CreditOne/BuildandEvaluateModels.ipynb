{
 "cells": [
  {
   "cell_type": "markdown",
   "metadata": {},
   "source": [
    "# Ejercicio Credit One\n",
    "## Construcción, evaluación y predicción\n",
    "#### Se puede encontrar una corta descripción en: [GitHub] (https://github.com/luquillas/EDA-Credit-One/blob/master/README.md)"
   ]
  },
  {
   "cell_type": "code",
   "execution_count": 1,
   "metadata": {},
   "outputs": [],
   "source": [
    "import pandas as pd\n",
    "import matplotlib as mpt\n",
    "import matplotlib.pyplot as plt\n",
    "import seaborn as sns\n",
    "import numpy as np\n",
    "from math import sqrt\n",
    "import scipy\n",
    "\n",
    "from sklearn.neighbors import KNeighborsClassifier\n",
    "from sklearn.naive_bayes import GaussianNB\n",
    "from sklearn.tree import DecisionTreeClassifier\n",
    "from sklearn.svm import SVC\n",
    "\n",
    "from sklearn.metrics import confusion_matrix\n",
    "from sklearn.metrics import accuracy_score\n",
    "from sklearn.metrics import classification_report\n",
    "\n",
    "from sklearn.model_selection import train_test_split\n",
    "\n",
    "\n",
    "from sklearn import preprocessing\n",
    "\n",
    "\n",
    "from sklearn.model_selection import StratifiedKFold\n",
    "from sklearn.feature_selection import RFECV\n",
    "\n",
    "\n",
    "from sklearn.preprocessing import StandardScaler \n",
    "from sklearn.decomposition import PCA \n",
    "\n",
    "import timeit\n"
   ]
  },
  {
   "cell_type": "markdown",
   "metadata": {},
   "source": [
    "## Inicialización de los algoritmos que van a ser entrenados."
   ]
  },
  {
   "cell_type": "code",
   "execution_count": 2,
   "metadata": {},
   "outputs": [],
   "source": [
    "modelKN = KNeighborsClassifier()\n",
    "modelSVC = SVC()\n",
    "modelGNB = GaussianNB()\n",
    "modelDT = DecisionTreeClassifier()\n",
    "\n",
    "modelKNCOR = KNeighborsClassifier()\n",
    "modelSVCCOR = SVC()\n",
    "modelGNBCOR = GaussianNB()\n",
    "modelDTCOR = DecisionTreeClassifier()\n",
    "\n",
    "modelKNRFE = KNeighborsClassifier()\n",
    "modelSVCRFE = SVC()\n",
    "modelGNBRFE = GaussianNB()\n",
    "modelDTRFE = DecisionTreeClassifier()\n",
    "\n",
    "\n",
    "modelKNPCA = KNeighborsClassifier()\n",
    "modelSVCPCA = SVC()\n",
    "modelGNBPCA = GaussianNB()\n",
    "modelDTPCA = DecisionTreeClassifier()\n",
    "\n"
   ]
  },
  {
   "cell_type": "markdown",
   "metadata": {},
   "source": [
    "## Lectura del conjunto de datos e impresión de encabezado y primeras filas.\n"
   ]
  },
  {
   "cell_type": "code",
   "execution_count": 3,
   "metadata": {},
   "outputs": [
    {
     "data": {
      "text/html": [
       "<div>\n",
       "<style scoped>\n",
       "    .dataframe tbody tr th:only-of-type {\n",
       "        vertical-align: middle;\n",
       "    }\n",
       "\n",
       "    .dataframe tbody tr th {\n",
       "        vertical-align: top;\n",
       "    }\n",
       "\n",
       "    .dataframe thead th {\n",
       "        text-align: right;\n",
       "    }\n",
       "</style>\n",
       "<table border=\"1\" class=\"dataframe\">\n",
       "  <thead>\n",
       "    <tr style=\"text-align: right;\">\n",
       "      <th></th>\n",
       "      <th>ID</th>\n",
       "      <th>LIMIT_BAL</th>\n",
       "      <th>SEX</th>\n",
       "      <th>EDUCATION</th>\n",
       "      <th>MARRIAGE</th>\n",
       "      <th>AGE</th>\n",
       "      <th>PAY_0</th>\n",
       "      <th>PAY_2</th>\n",
       "      <th>PAY_3</th>\n",
       "      <th>PAY_4</th>\n",
       "      <th>...</th>\n",
       "      <th>BILL_AMT4</th>\n",
       "      <th>BILL_AMT5</th>\n",
       "      <th>BILL_AMT6</th>\n",
       "      <th>PAY_AMT1</th>\n",
       "      <th>PAY_AMT2</th>\n",
       "      <th>PAY_AMT3</th>\n",
       "      <th>PAY_AMT4</th>\n",
       "      <th>PAY_AMT5</th>\n",
       "      <th>PAY_AMT6</th>\n",
       "      <th>default payment next month</th>\n",
       "    </tr>\n",
       "  </thead>\n",
       "  <tbody>\n",
       "    <tr>\n",
       "      <td>0</td>\n",
       "      <td>1</td>\n",
       "      <td>20000</td>\n",
       "      <td>2</td>\n",
       "      <td>2</td>\n",
       "      <td>1</td>\n",
       "      <td>24</td>\n",
       "      <td>2</td>\n",
       "      <td>2</td>\n",
       "      <td>-1</td>\n",
       "      <td>-1</td>\n",
       "      <td>...</td>\n",
       "      <td>0</td>\n",
       "      <td>0</td>\n",
       "      <td>0</td>\n",
       "      <td>0</td>\n",
       "      <td>689</td>\n",
       "      <td>0</td>\n",
       "      <td>0</td>\n",
       "      <td>0</td>\n",
       "      <td>0</td>\n",
       "      <td>1</td>\n",
       "    </tr>\n",
       "    <tr>\n",
       "      <td>1</td>\n",
       "      <td>2</td>\n",
       "      <td>120000</td>\n",
       "      <td>2</td>\n",
       "      <td>2</td>\n",
       "      <td>2</td>\n",
       "      <td>26</td>\n",
       "      <td>-1</td>\n",
       "      <td>2</td>\n",
       "      <td>0</td>\n",
       "      <td>0</td>\n",
       "      <td>...</td>\n",
       "      <td>3272</td>\n",
       "      <td>3455</td>\n",
       "      <td>3261</td>\n",
       "      <td>0</td>\n",
       "      <td>1000</td>\n",
       "      <td>1000</td>\n",
       "      <td>1000</td>\n",
       "      <td>0</td>\n",
       "      <td>2000</td>\n",
       "      <td>1</td>\n",
       "    </tr>\n",
       "    <tr>\n",
       "      <td>2</td>\n",
       "      <td>3</td>\n",
       "      <td>90000</td>\n",
       "      <td>2</td>\n",
       "      <td>2</td>\n",
       "      <td>2</td>\n",
       "      <td>34</td>\n",
       "      <td>0</td>\n",
       "      <td>0</td>\n",
       "      <td>0</td>\n",
       "      <td>0</td>\n",
       "      <td>...</td>\n",
       "      <td>14331</td>\n",
       "      <td>14948</td>\n",
       "      <td>15549</td>\n",
       "      <td>1518</td>\n",
       "      <td>1500</td>\n",
       "      <td>1000</td>\n",
       "      <td>1000</td>\n",
       "      <td>1000</td>\n",
       "      <td>5000</td>\n",
       "      <td>0</td>\n",
       "    </tr>\n",
       "    <tr>\n",
       "      <td>3</td>\n",
       "      <td>4</td>\n",
       "      <td>50000</td>\n",
       "      <td>2</td>\n",
       "      <td>2</td>\n",
       "      <td>1</td>\n",
       "      <td>37</td>\n",
       "      <td>0</td>\n",
       "      <td>0</td>\n",
       "      <td>0</td>\n",
       "      <td>0</td>\n",
       "      <td>...</td>\n",
       "      <td>28314</td>\n",
       "      <td>28959</td>\n",
       "      <td>29547</td>\n",
       "      <td>2000</td>\n",
       "      <td>2019</td>\n",
       "      <td>1200</td>\n",
       "      <td>1100</td>\n",
       "      <td>1069</td>\n",
       "      <td>1000</td>\n",
       "      <td>0</td>\n",
       "    </tr>\n",
       "    <tr>\n",
       "      <td>4</td>\n",
       "      <td>5</td>\n",
       "      <td>50000</td>\n",
       "      <td>1</td>\n",
       "      <td>2</td>\n",
       "      <td>1</td>\n",
       "      <td>57</td>\n",
       "      <td>-1</td>\n",
       "      <td>0</td>\n",
       "      <td>-1</td>\n",
       "      <td>0</td>\n",
       "      <td>...</td>\n",
       "      <td>20940</td>\n",
       "      <td>19146</td>\n",
       "      <td>19131</td>\n",
       "      <td>2000</td>\n",
       "      <td>36681</td>\n",
       "      <td>10000</td>\n",
       "      <td>9000</td>\n",
       "      <td>689</td>\n",
       "      <td>679</td>\n",
       "      <td>0</td>\n",
       "    </tr>\n",
       "  </tbody>\n",
       "</table>\n",
       "<p>5 rows × 25 columns</p>\n",
       "</div>"
      ],
      "text/plain": [
       "   ID  LIMIT_BAL  SEX  EDUCATION  MARRIAGE  AGE  PAY_0  PAY_2  PAY_3  PAY_4  \\\n",
       "0   1      20000    2          2         1   24      2      2     -1     -1   \n",
       "1   2     120000    2          2         2   26     -1      2      0      0   \n",
       "2   3      90000    2          2         2   34      0      0      0      0   \n",
       "3   4      50000    2          2         1   37      0      0      0      0   \n",
       "4   5      50000    1          2         1   57     -1      0     -1      0   \n",
       "\n",
       "   ...  BILL_AMT4  BILL_AMT5  BILL_AMT6  PAY_AMT1  PAY_AMT2  PAY_AMT3  \\\n",
       "0  ...          0          0          0         0       689         0   \n",
       "1  ...       3272       3455       3261         0      1000      1000   \n",
       "2  ...      14331      14948      15549      1518      1500      1000   \n",
       "3  ...      28314      28959      29547      2000      2019      1200   \n",
       "4  ...      20940      19146      19131      2000     36681     10000   \n",
       "\n",
       "   PAY_AMT4  PAY_AMT5  PAY_AMT6  default payment next month  \n",
       "0         0         0         0                           1  \n",
       "1      1000         0      2000                           1  \n",
       "2      1000      1000      5000                           0  \n",
       "3      1100      1069      1000                           0  \n",
       "4      9000       689       679                           0  \n",
       "\n",
       "[5 rows x 25 columns]"
      ]
     },
     "execution_count": 3,
     "metadata": {},
     "output_type": "execute_result"
    }
   ],
   "source": [
    "ClientesSinProcesar = pd.read_csv('defaultClients.csv',header=1)\n",
    "ClientesSinProcesar.head()"
   ]
  },
  {
   "cell_type": "markdown",
   "metadata": {},
   "source": [
    "## Descripción del timpo de datos de las columnas.\n"
   ]
  },
  {
   "cell_type": "code",
   "execution_count": 4,
   "metadata": {
    "scrolled": true
   },
   "outputs": [
    {
     "name": "stdout",
     "output_type": "stream",
     "text": [
      "<class 'pandas.core.frame.DataFrame'>\n",
      "RangeIndex: 30000 entries, 0 to 29999\n",
      "Data columns (total 25 columns):\n",
      "ID                            30000 non-null int64\n",
      "LIMIT_BAL                     30000 non-null int64\n",
      "SEX                           30000 non-null int64\n",
      "EDUCATION                     30000 non-null int64\n",
      "MARRIAGE                      30000 non-null int64\n",
      "AGE                           30000 non-null int64\n",
      "PAY_0                         30000 non-null int64\n",
      "PAY_2                         30000 non-null int64\n",
      "PAY_3                         30000 non-null int64\n",
      "PAY_4                         30000 non-null int64\n",
      "PAY_5                         30000 non-null int64\n",
      "PAY_6                         30000 non-null int64\n",
      "BILL_AMT1                     30000 non-null int64\n",
      "BILL_AMT2                     30000 non-null int64\n",
      "BILL_AMT3                     30000 non-null int64\n",
      "BILL_AMT4                     30000 non-null int64\n",
      "BILL_AMT5                     30000 non-null int64\n",
      "BILL_AMT6                     30000 non-null int64\n",
      "PAY_AMT1                      30000 non-null int64\n",
      "PAY_AMT2                      30000 non-null int64\n",
      "PAY_AMT3                      30000 non-null int64\n",
      "PAY_AMT4                      30000 non-null int64\n",
      "PAY_AMT5                      30000 non-null int64\n",
      "PAY_AMT6                      30000 non-null int64\n",
      "default payment next month    30000 non-null int64\n",
      "dtypes: int64(25)\n",
      "memory usage: 5.7 MB\n"
     ]
    }
   ],
   "source": [
    "ClientesSinProcesar.info()"
   ]
  },
  {
   "cell_type": "markdown",
   "metadata": {},
   "source": [
    "## Preprocesamiento de los datos, entre los cambios necesarios se aplica:\n",
    "* Cambio de variables enteras a categóricas\n",
    "* Cambio de nombre en la variable dependiente para mayor facilidad\n",
    "* Asignación de la variable dependiente y separación de variables\n"
   ]
  },
  {
   "cell_type": "code",
   "execution_count": 5,
   "metadata": {},
   "outputs": [],
   "source": [
    "ClientesProcesados = ClientesSinProcesar.iloc[:,1:]\n"
   ]
  },
  {
   "cell_type": "code",
   "execution_count": 6,
   "metadata": {},
   "outputs": [
    {
     "name": "stderr",
     "output_type": "stream",
     "text": [
      "C:\\Users\\jorrodro\\Anaconda3\\lib\\site-packages\\ipykernel_launcher.py:1: SettingWithCopyWarning: \n",
      "A value is trying to be set on a copy of a slice from a DataFrame.\n",
      "Try using .loc[row_indexer,col_indexer] = value instead\n",
      "\n",
      "See the caveats in the documentation: http://pandas.pydata.org/pandas-docs/stable/user_guide/indexing.html#returning-a-view-versus-a-copy\n",
      "  \"\"\"Entry point for launching an IPython kernel.\n",
      "C:\\Users\\jorrodro\\Anaconda3\\lib\\site-packages\\ipykernel_launcher.py:2: SettingWithCopyWarning: \n",
      "A value is trying to be set on a copy of a slice from a DataFrame.\n",
      "Try using .loc[row_indexer,col_indexer] = value instead\n",
      "\n",
      "See the caveats in the documentation: http://pandas.pydata.org/pandas-docs/stable/user_guide/indexing.html#returning-a-view-versus-a-copy\n",
      "  \n",
      "C:\\Users\\jorrodro\\Anaconda3\\lib\\site-packages\\ipykernel_launcher.py:3: SettingWithCopyWarning: \n",
      "A value is trying to be set on a copy of a slice from a DataFrame.\n",
      "Try using .loc[row_indexer,col_indexer] = value instead\n",
      "\n",
      "See the caveats in the documentation: http://pandas.pydata.org/pandas-docs/stable/user_guide/indexing.html#returning-a-view-versus-a-copy\n",
      "  This is separate from the ipykernel package so we can avoid doing imports until\n",
      "C:\\Users\\jorrodro\\Anaconda3\\lib\\site-packages\\pandas\\core\\frame.py:4223: SettingWithCopyWarning: \n",
      "A value is trying to be set on a copy of a slice from a DataFrame\n",
      "\n",
      "See the caveats in the documentation: http://pandas.pydata.org/pandas-docs/stable/user_guide/indexing.html#returning-a-view-versus-a-copy\n",
      "  return super().rename(**kwargs)\n",
      "C:\\Users\\jorrodro\\Anaconda3\\lib\\site-packages\\ipykernel_launcher.py:6: SettingWithCopyWarning: \n",
      "A value is trying to be set on a copy of a slice from a DataFrame.\n",
      "Try using .loc[row_indexer,col_indexer] = value instead\n",
      "\n",
      "See the caveats in the documentation: http://pandas.pydata.org/pandas-docs/stable/user_guide/indexing.html#returning-a-view-versus-a-copy\n",
      "  \n",
      "C:\\Users\\jorrodro\\Anaconda3\\lib\\site-packages\\ipykernel_launcher.py:7: SettingWithCopyWarning: \n",
      "A value is trying to be set on a copy of a slice from a DataFrame.\n",
      "Try using .loc[row_indexer,col_indexer] = value instead\n",
      "\n",
      "See the caveats in the documentation: http://pandas.pydata.org/pandas-docs/stable/user_guide/indexing.html#returning-a-view-versus-a-copy\n",
      "  import sys\n",
      "C:\\Users\\jorrodro\\Anaconda3\\lib\\site-packages\\ipykernel_launcher.py:8: SettingWithCopyWarning: \n",
      "A value is trying to be set on a copy of a slice from a DataFrame.\n",
      "Try using .loc[row_indexer,col_indexer] = value instead\n",
      "\n",
      "See the caveats in the documentation: http://pandas.pydata.org/pandas-docs/stable/user_guide/indexing.html#returning-a-view-versus-a-copy\n",
      "  \n",
      "C:\\Users\\jorrodro\\Anaconda3\\lib\\site-packages\\ipykernel_launcher.py:9: SettingWithCopyWarning: \n",
      "A value is trying to be set on a copy of a slice from a DataFrame.\n",
      "Try using .loc[row_indexer,col_indexer] = value instead\n",
      "\n",
      "See the caveats in the documentation: http://pandas.pydata.org/pandas-docs/stable/user_guide/indexing.html#returning-a-view-versus-a-copy\n",
      "  if __name__ == '__main__':\n",
      "C:\\Users\\jorrodro\\Anaconda3\\lib\\site-packages\\ipykernel_launcher.py:10: SettingWithCopyWarning: \n",
      "A value is trying to be set on a copy of a slice from a DataFrame.\n",
      "Try using .loc[row_indexer,col_indexer] = value instead\n",
      "\n",
      "See the caveats in the documentation: http://pandas.pydata.org/pandas-docs/stable/user_guide/indexing.html#returning-a-view-versus-a-copy\n",
      "  # Remove the CWD from sys.path while we load stuff.\n",
      "C:\\Users\\jorrodro\\Anaconda3\\lib\\site-packages\\ipykernel_launcher.py:11: SettingWithCopyWarning: \n",
      "A value is trying to be set on a copy of a slice from a DataFrame.\n",
      "Try using .loc[row_indexer,col_indexer] = value instead\n",
      "\n",
      "See the caveats in the documentation: http://pandas.pydata.org/pandas-docs/stable/user_guide/indexing.html#returning-a-view-versus-a-copy\n",
      "  # This is added back by InteractiveShellApp.init_path()\n",
      "C:\\Users\\jorrodro\\Anaconda3\\lib\\site-packages\\ipykernel_launcher.py:14: SettingWithCopyWarning: \n",
      "A value is trying to be set on a copy of a slice from a DataFrame.\n",
      "Try using .loc[row_indexer,col_indexer] = value instead\n",
      "\n",
      "See the caveats in the documentation: http://pandas.pydata.org/pandas-docs/stable/user_guide/indexing.html#returning-a-view-versus-a-copy\n",
      "  \n"
     ]
    }
   ],
   "source": [
    "ClientesProcesados['SEX']=ClientesProcesados['SEX'].astype('category')\n",
    "ClientesProcesados['EDUCATION']=ClientesProcesados['EDUCATION'].astype('category')\n",
    "ClientesProcesados['MARRIAGE']=ClientesProcesados['MARRIAGE'].astype('category')\n",
    "\n",
    "ClientesProcesados.rename(columns={\"PAY_0\":\"PAY_1\"}, inplace=True)\n",
    "ClientesProcesados['PAY_1']=ClientesProcesados['PAY_1'].astype('category')\n",
    "ClientesProcesados['PAY_2']=ClientesProcesados['PAY_2'].astype('category')\n",
    "ClientesProcesados['PAY_3']=ClientesProcesados['PAY_3'].astype('category')\n",
    "ClientesProcesados['PAY_4']=ClientesProcesados['PAY_4'].astype('category')\n",
    "ClientesProcesados['PAY_5']=ClientesProcesados['PAY_5'].astype('category')\n",
    "ClientesProcesados['PAY_6']=ClientesProcesados['PAY_6'].astype('category')\n",
    "\n",
    "ClientesProcesados.rename(columns={\"default payment next month\":\"DEFAULT\"}, inplace=True)\n",
    "ClientesProcesados['DEFAULT']=ClientesProcesados['DEFAULT'].astype('category')"
   ]
  },
  {
   "cell_type": "code",
   "execution_count": 7,
   "metadata": {},
   "outputs": [
    {
     "name": "stdout",
     "output_type": "stream",
     "text": [
      "<class 'pandas.core.frame.DataFrame'>\n",
      "RangeIndex: 30000 entries, 0 to 29999\n",
      "Data columns (total 24 columns):\n",
      "LIMIT_BAL    30000 non-null int64\n",
      "SEX          30000 non-null category\n",
      "EDUCATION    30000 non-null category\n",
      "MARRIAGE     30000 non-null category\n",
      "AGE          30000 non-null int64\n",
      "PAY_1        30000 non-null category\n",
      "PAY_2        30000 non-null category\n",
      "PAY_3        30000 non-null category\n",
      "PAY_4        30000 non-null category\n",
      "PAY_5        30000 non-null category\n",
      "PAY_6        30000 non-null category\n",
      "BILL_AMT1    30000 non-null int64\n",
      "BILL_AMT2    30000 non-null int64\n",
      "BILL_AMT3    30000 non-null int64\n",
      "BILL_AMT4    30000 non-null int64\n",
      "BILL_AMT5    30000 non-null int64\n",
      "BILL_AMT6    30000 non-null int64\n",
      "PAY_AMT1     30000 non-null int64\n",
      "PAY_AMT2     30000 non-null int64\n",
      "PAY_AMT3     30000 non-null int64\n",
      "PAY_AMT4     30000 non-null int64\n",
      "PAY_AMT5     30000 non-null int64\n",
      "PAY_AMT6     30000 non-null int64\n",
      "DEFAULT      30000 non-null category\n",
      "dtypes: category(10), int64(14)\n",
      "memory usage: 3.5 MB\n"
     ]
    }
   ],
   "source": [
    "ClientesProcesados.info()"
   ]
  },
  {
   "cell_type": "code",
   "execution_count": 8,
   "metadata": {},
   "outputs": [],
   "source": [
    "depVar=ClientesProcesados['DEFAULT']\n",
    "ClientesProcesados=ClientesProcesados.iloc[:,:-1] "
   ]
  },
  {
   "cell_type": "markdown",
   "metadata": {},
   "source": [
    "## Aplicación de RFE para selección de los atributos mas importantes. Para este caso se seleccionan 4 atributos como número optimo.\n"
   ]
  },
  {
   "cell_type": "code",
   "execution_count": 9,
   "metadata": {},
   "outputs": [
    {
     "name": "stdout",
     "output_type": "stream",
     "text": [
      "Optimal number of features: 4\n"
     ]
    }
   ],
   "source": [
    "ClientesProcesadosRFE=ClientesProcesados.copy()\n",
    "rfc = DecisionTreeClassifier(random_state=101)\n",
    "rfecv = RFECV(estimator=rfc, step=1, cv=StratifiedKFold(10), scoring='accuracy')\n",
    "rfecv.fit(ClientesProcesadosRFE, depVar)\n",
    "print('Optimal number of features: {}'.format(rfecv.n_features_))"
   ]
  },
  {
   "cell_type": "code",
   "execution_count": 128,
   "metadata": {},
   "outputs": [
    {
     "data": {
      "image/png": "[encoded data removed]",
      "text/plain": [
       "<Figure size 1152x648 with 1 Axes>"
      ]
     },
     "metadata": {
      "needs_background": "light"
     },
     "output_type": "display_data"
    }
   ],
   "source": [
    "plt.figure(figsize=(16, 9))\n",
    "plt.title('Recursive Feature Elimination with Cross-Validation', fontsize=18, fontweight='bold', pad=20)\n",
    "plt.xlabel('Numero de atributos seleccionados', fontsize=14, labelpad=20)\n",
    "plt.ylabel('% Correcto de clasificación', fontsize=14, labelpad=20)\n",
    "plt.plot(range(1, len(rfecv.grid_scores_) + 1), rfecv.grid_scores_, color='#303F9F', linewidth=3)\n",
    "\n",
    "plt.show()"
   ]
  },
  {
   "cell_type": "code",
   "execution_count": 11,
   "metadata": {},
   "outputs": [],
   "source": [
    "ClientesProcesadosRFE.drop(ClientesProcesadosRFE.columns[np.where(rfecv.support_ == False)[0]], axis=1, inplace=True)"
   ]
  },
  {
   "cell_type": "markdown",
   "metadata": {},
   "source": [
    "## Muestra los atributos seleccionados por el proceso RFE de acuerdo a su importancia.\n"
   ]
  },
  {
   "cell_type": "code",
   "execution_count": 12,
   "metadata": {},
   "outputs": [
    {
     "name": "stdout",
     "output_type": "stream",
     "text": [
      "<class 'pandas.core.frame.DataFrame'>\n",
      "RangeIndex: 30000 entries, 0 to 29999\n",
      "Data columns (total 4 columns):\n",
      "PAY_1        30000 non-null category\n",
      "BILL_AMT1    30000 non-null int64\n",
      "BILL_AMT2    30000 non-null int64\n",
      "BILL_AMT6    30000 non-null int64\n",
      "dtypes: category(1), int64(3)\n",
      "memory usage: 732.9 KB\n"
     ]
    }
   ],
   "source": [
    "ClientesProcesadosRFE.info()"
   ]
  },
  {
   "cell_type": "markdown",
   "metadata": {},
   "source": [
    "## Matriz de covariancia presentada en el conjunto de datos.\n"
   ]
  },
  {
   "cell_type": "code",
   "execution_count": 13,
   "metadata": {},
   "outputs": [
    {
     "name": "stdout",
     "output_type": "stream",
     "text": [
      "              LIMIT_BAL            AGE     BILL_AMT1     BILL_AMT2  \\\n",
      "LIMIT_BAL  1.683446e+10  173076.722569  2.727020e+09  2.570130e+09   \n",
      "AGE        1.730767e+05      84.969755  3.817293e+04  3.561366e+04   \n",
      "BILL_AMT1  2.727020e+09   38172.933546  5.422240e+09  4.986670e+09   \n",
      "BILL_AMT2  2.570130e+09   35613.657962  4.986670e+09  5.065705e+09   \n",
      "BILL_AMT3  2.548533e+09   34334.251320  4.556511e+09  4.582086e+09   \n",
      "BILL_AMT4  2.453926e+09   30453.108180  4.075286e+09  4.086508e+09   \n",
      "BILL_AMT5  2.331481e+09   27654.067800  3.714795e+09  3.720401e+09   \n",
      "BILL_AMT6  2.243837e+09   26137.648547  3.519876e+09  3.524868e+09   \n",
      "PAY_AMT1   4.195711e+08    3992.041735  1.710894e+08  3.305146e+08   \n",
      "PAY_AMT2   5.333504e+08    4626.861549  1.685692e+08  1.653859e+08   \n",
      "PAY_AMT3   4.801180e+08    4746.824393  2.034048e+08  1.888731e+08   \n",
      "PAY_AMT4   4.131202e+08    3087.324192  1.826164e+08  1.643518e+08   \n",
      "PAY_AMT5   4.305657e+08    3218.052172  1.879091e+08  1.717652e+08   \n",
      "PAY_AMT6   5.065153e+08    3191.903901  2.347681e+08  2.204845e+08   \n",
      "\n",
      "              BILL_AMT3     BILL_AMT4     BILL_AMT5     BILL_AMT6  \\\n",
      "LIMIT_BAL  2.548533e+09  2.453926e+09  2.331481e+09  2.243837e+09   \n",
      "AGE        3.433425e+04  3.045311e+04  2.765407e+04  2.613765e+04   \n",
      "BILL_AMT1  4.556511e+09  4.075286e+09  3.714795e+09  3.519876e+09   \n",
      "BILL_AMT2  4.582086e+09  4.086508e+09  3.720401e+09  3.524868e+09   \n",
      "BILL_AMT3  4.809338e+09  4.122238e+09  3.726780e+09  3.524247e+09   \n",
      "BILL_AMT4  4.122238e+09  4.138716e+09  3.677105e+09  3.451762e+09   \n",
      "BILL_AMT5  3.726780e+09  3.677105e+09  3.696294e+09  3.425914e+09   \n",
      "BILL_AMT6  3.524247e+09  3.451762e+09  3.425914e+09  3.546692e+09   \n",
      "PAY_AMT1   2.806565e+08  2.482888e+08  2.185501e+08  1.972478e+08   \n",
      "PAY_AMT2   5.064226e+08  3.076686e+08  2.538936e+08  2.369244e+08   \n",
      "PAY_AMT3   1.587478e+08  3.398374e+08  2.700805e+08  2.451233e+08   \n",
      "PAY_AMT4   1.558003e+08  1.312133e+08  2.791830e+08  2.334670e+08   \n",
      "PAY_AMT5   1.904126e+08  1.576892e+08  1.315051e+08  2.799982e+08   \n",
      "PAY_AMT6   2.247817e+08  2.031590e+08  1.774537e+08  1.222761e+08   \n",
      "\n",
      "               PAY_AMT1      PAY_AMT2      PAY_AMT3      PAY_AMT4  \\\n",
      "LIMIT_BAL  4.195711e+08  5.333504e+08  4.801180e+08  4.131202e+08   \n",
      "AGE        3.992042e+03  4.626862e+03  4.746824e+03  3.087324e+03   \n",
      "BILL_AMT1  1.710894e+08  1.685692e+08  2.034048e+08  1.826164e+08   \n",
      "BILL_AMT2  3.305146e+08  1.653859e+08  1.888731e+08  1.643518e+08   \n",
      "BILL_AMT3  2.806565e+08  5.064226e+08  1.587478e+08  1.558003e+08   \n",
      "BILL_AMT4  2.482888e+08  3.076686e+08  3.398374e+08  1.312133e+08   \n",
      "BILL_AMT5  2.185501e+08  2.538936e+08  2.700805e+08  2.791830e+08   \n",
      "BILL_AMT6  1.972478e+08  2.369244e+08  2.451233e+08  2.334670e+08   \n",
      "PAY_AMT1   2.743423e+08  1.089849e+08  7.354626e+07  5.178189e+07   \n",
      "PAY_AMT2   1.089849e+08  5.308817e+08  9.929841e+07  6.501168e+07   \n",
      "PAY_AMT3   7.354626e+07  9.929841e+07  3.100051e+08  5.966970e+07   \n",
      "PAY_AMT4   5.178189e+07  6.501168e+07  5.966970e+07  2.454286e+08   \n",
      "PAY_AMT5   3.756893e+07  6.368414e+07  4.282921e+07  3.634098e+07   \n",
      "PAY_AMT6   5.469033e+07  6.456816e+07  5.093879e+07  4.395747e+07   \n",
      "\n",
      "               PAY_AMT5      PAY_AMT6  \n",
      "LIMIT_BAL  4.305657e+08  5.065153e+08  \n",
      "AGE        3.218052e+03  3.191904e+03  \n",
      "BILL_AMT1  1.879091e+08  2.347681e+08  \n",
      "BILL_AMT2  1.717652e+08  2.204845e+08  \n",
      "BILL_AMT3  1.904126e+08  2.247817e+08  \n",
      "BILL_AMT4  1.576892e+08  2.031590e+08  \n",
      "BILL_AMT5  1.315051e+08  1.774537e+08  \n",
      "BILL_AMT6  2.799982e+08  1.222761e+08  \n",
      "PAY_AMT1   3.756893e+07  5.469033e+07  \n",
      "PAY_AMT2   6.368414e+07  6.456816e+07  \n",
      "PAY_AMT3   4.282921e+07  5.093879e+07  \n",
      "PAY_AMT4   3.634098e+07  4.395747e+07  \n",
      "PAY_AMT5   2.334266e+08  4.207110e+07  \n",
      "PAY_AMT6   4.207110e+07  3.160383e+08  \n"
     ]
    }
   ],
   "source": [
    "covMat = ClientesProcesados.cov () \n",
    "print (covMat)"
   ]
  },
  {
   "cell_type": "markdown",
   "metadata": {},
   "source": [
    "## Matriz de correlación presentada en el conjunto de datos. Se encuentra correlación en entre los atributos BILL_AMT# por lo cual es necesario eliminar 5 de estos atributos\n"
   ]
  },
  {
   "cell_type": "code",
   "execution_count": 14,
   "metadata": {},
   "outputs": [
    {
     "name": "stdout",
     "output_type": "stream",
     "text": [
      "           LIMIT_BAL       AGE  BILL_AMT1  BILL_AMT2  BILL_AMT3  BILL_AMT4  \\\n",
      "LIMIT_BAL   1.000000  0.144713   0.285430   0.278314   0.283236   0.293988   \n",
      "AGE         0.144713  1.000000   0.056239   0.054283   0.053710   0.051353   \n",
      "BILL_AMT1   0.285430  0.056239   1.000000   0.951484   0.892279   0.860272   \n",
      "BILL_AMT2   0.278314  0.054283   0.951484   1.000000   0.928326   0.892482   \n",
      "BILL_AMT3   0.283236  0.053710   0.892279   0.928326   1.000000   0.923969   \n",
      "BILL_AMT4   0.293988  0.051353   0.860272   0.892482   0.923969   1.000000   \n",
      "BILL_AMT5   0.295562  0.049345   0.829779   0.859778   0.883910   0.940134   \n",
      "BILL_AMT6   0.290389  0.047613   0.802650   0.831594   0.853320   0.900941   \n",
      "PAY_AMT1    0.195236  0.026147   0.140277   0.280365   0.244335   0.233012   \n",
      "PAY_AMT2    0.178408  0.021785   0.099355   0.100851   0.316936   0.207564   \n",
      "PAY_AMT3    0.210167  0.029247   0.156887   0.150718   0.130011   0.300023   \n",
      "PAY_AMT4    0.203242  0.021379   0.158303   0.147398   0.143405   0.130191   \n",
      "PAY_AMT5    0.217202  0.022850   0.167026   0.157957   0.179712   0.160433   \n",
      "PAY_AMT6    0.219595  0.019478   0.179341   0.174256   0.182326   0.177637   \n",
      "\n",
      "           BILL_AMT5  BILL_AMT6  PAY_AMT1  PAY_AMT2  PAY_AMT3  PAY_AMT4  \\\n",
      "LIMIT_BAL   0.295562   0.290389  0.195236  0.178408  0.210167  0.203242   \n",
      "AGE         0.049345   0.047613  0.026147  0.021785  0.029247  0.021379   \n",
      "BILL_AMT1   0.829779   0.802650  0.140277  0.099355  0.156887  0.158303   \n",
      "BILL_AMT2   0.859778   0.831594  0.280365  0.100851  0.150718  0.147398   \n",
      "BILL_AMT3   0.883910   0.853320  0.244335  0.316936  0.130011  0.143405   \n",
      "BILL_AMT4   0.940134   0.900941  0.233012  0.207564  0.300023  0.130191   \n",
      "BILL_AMT5   1.000000   0.946197  0.217031  0.181246  0.252305  0.293118   \n",
      "BILL_AMT6   0.946197   1.000000  0.199965  0.172663  0.233770  0.250237   \n",
      "PAY_AMT1    0.217031   0.199965  1.000000  0.285576  0.252191  0.199558   \n",
      "PAY_AMT2    0.181246   0.172663  0.285576  1.000000  0.244770  0.180107   \n",
      "PAY_AMT3    0.252305   0.233770  0.252191  0.244770  1.000000  0.216325   \n",
      "PAY_AMT4    0.293118   0.250237  0.199558  0.180107  0.216325  1.000000   \n",
      "PAY_AMT5    0.141574   0.307729  0.148459  0.180908  0.159214  0.151830   \n",
      "PAY_AMT6    0.164184   0.115494  0.185735  0.157634  0.162740  0.157834   \n",
      "\n",
      "           PAY_AMT5  PAY_AMT6  \n",
      "LIMIT_BAL  0.217202  0.219595  \n",
      "AGE        0.022850  0.019478  \n",
      "BILL_AMT1  0.167026  0.179341  \n",
      "BILL_AMT2  0.157957  0.174256  \n",
      "BILL_AMT3  0.179712  0.182326  \n",
      "BILL_AMT4  0.160433  0.177637  \n",
      "BILL_AMT5  0.141574  0.164184  \n",
      "BILL_AMT6  0.307729  0.115494  \n",
      "PAY_AMT1   0.148459  0.185735  \n",
      "PAY_AMT2   0.180908  0.157634  \n",
      "PAY_AMT3   0.159214  0.162740  \n",
      "PAY_AMT4   0.151830  0.157834  \n",
      "PAY_AMT5   1.000000  0.154896  \n",
      "PAY_AMT6   0.154896  1.000000  \n"
     ]
    }
   ],
   "source": [
    "corrMat = ClientesProcesados.corr () \n",
    "print (corrMat)"
   ]
  },
  {
   "cell_type": "code",
   "execution_count": 15,
   "metadata": {},
   "outputs": [],
   "source": [
    "ClientesProcesadosCOR=ClientesProcesados.iloc[:,:] \n",
    "ClientesProcesadosCOR.drop(\"BILL_AMT1\", axis=1, inplace=True)\n",
    "ClientesProcesadosCOR.drop(\"BILL_AMT2\", axis=1, inplace=True)\n",
    "ClientesProcesadosCOR.drop(\"BILL_AMT3\", axis=1, inplace=True)\n",
    "ClientesProcesadosCOR.drop(\"BILL_AMT4\", axis=1, inplace=True)\n",
    "ClientesProcesadosCOR.drop(\"BILL_AMT5\", axis=1, inplace=True)"
   ]
  },
  {
   "cell_type": "code",
   "execution_count": 16,
   "metadata": {},
   "outputs": [
    {
     "name": "stdout",
     "output_type": "stream",
     "text": [
      "<class 'pandas.core.frame.DataFrame'>\n",
      "RangeIndex: 30000 entries, 0 to 29999\n",
      "Data columns (total 18 columns):\n",
      "LIMIT_BAL    30000 non-null int64\n",
      "SEX          30000 non-null category\n",
      "EDUCATION    30000 non-null category\n",
      "MARRIAGE     30000 non-null category\n",
      "AGE          30000 non-null int64\n",
      "PAY_1        30000 non-null category\n",
      "PAY_2        30000 non-null category\n",
      "PAY_3        30000 non-null category\n",
      "PAY_4        30000 non-null category\n",
      "PAY_5        30000 non-null category\n",
      "PAY_6        30000 non-null category\n",
      "BILL_AMT6    30000 non-null int64\n",
      "PAY_AMT1     30000 non-null int64\n",
      "PAY_AMT2     30000 non-null int64\n",
      "PAY_AMT3     30000 non-null int64\n",
      "PAY_AMT4     30000 non-null int64\n",
      "PAY_AMT5     30000 non-null int64\n",
      "PAY_AMT6     30000 non-null int64\n",
      "dtypes: category(9), int64(9)\n",
      "memory usage: 2.3 MB\n"
     ]
    }
   ],
   "source": [
    "ClientesProcesadosCOR.info()"
   ]
  },
  {
   "cell_type": "code",
   "execution_count": 17,
   "metadata": {},
   "outputs": [
    {
     "name": "stdout",
     "output_type": "stream",
     "text": [
      "           LIMIT_BAL       AGE  BILL_AMT6  PAY_AMT1  PAY_AMT2  PAY_AMT3  \\\n",
      "LIMIT_BAL   1.000000  0.144713   0.290389  0.195236  0.178408  0.210167   \n",
      "AGE         0.144713  1.000000   0.047613  0.026147  0.021785  0.029247   \n",
      "BILL_AMT6   0.290389  0.047613   1.000000  0.199965  0.172663  0.233770   \n",
      "PAY_AMT1    0.195236  0.026147   0.199965  1.000000  0.285576  0.252191   \n",
      "PAY_AMT2    0.178408  0.021785   0.172663  0.285576  1.000000  0.244770   \n",
      "PAY_AMT3    0.210167  0.029247   0.233770  0.252191  0.244770  1.000000   \n",
      "PAY_AMT4    0.203242  0.021379   0.250237  0.199558  0.180107  0.216325   \n",
      "PAY_AMT5    0.217202  0.022850   0.307729  0.148459  0.180908  0.159214   \n",
      "PAY_AMT6    0.219595  0.019478   0.115494  0.185735  0.157634  0.162740   \n",
      "\n",
      "           PAY_AMT4  PAY_AMT5  PAY_AMT6  \n",
      "LIMIT_BAL  0.203242  0.217202  0.219595  \n",
      "AGE        0.021379  0.022850  0.019478  \n",
      "BILL_AMT6  0.250237  0.307729  0.115494  \n",
      "PAY_AMT1   0.199558  0.148459  0.185735  \n",
      "PAY_AMT2   0.180107  0.180908  0.157634  \n",
      "PAY_AMT3   0.216325  0.159214  0.162740  \n",
      "PAY_AMT4   1.000000  0.151830  0.157834  \n",
      "PAY_AMT5   0.151830  1.000000  0.154896  \n",
      "PAY_AMT6   0.157834  0.154896  1.000000  \n"
     ]
    }
   ],
   "source": [
    "corrMat = ClientesProcesadosCOR.corr () \n",
    "print (corrMat)"
   ]
  },
  {
   "cell_type": "markdown",
   "metadata": {},
   "source": [
    "## Creación de los conjunto de datos de pruebas y entrenamiento con un porcentaje 75/25.\n"
   ]
  },
  {
   "cell_type": "code",
   "execution_count": 18,
   "metadata": {},
   "outputs": [],
   "source": [
    "x_train, x_test, y_train, y_test = train_test_split(ClientesProcesados, depVar)\n",
    "x_trainCOR, x_testCOR, y_trainCOR, y_testCOR = train_test_split(ClientesProcesadosCOR, depVar)\n",
    "x_trainRFE, x_testRFE, y_trainRFE, y_testRFE = train_test_split(ClientesProcesadosRFE, depVar)\n",
    "x_trainPCA, x_testPCA, y_trainPCA, y_testPCA = train_test_split(ClientesProcesados, depVar)"
   ]
  },
  {
   "cell_type": "markdown",
   "metadata": {},
   "source": [
    "## Elección de atributos con mayor variabilidad. Del total de 25 columnas se eligen solamente 8 y estas representan el 73.46% de varianza de los datos.\n"
   ]
  },
  {
   "cell_type": "code",
   "execution_count": 19,
   "metadata": {},
   "outputs": [],
   "source": [
    "sc = StandardScaler() \n",
    "x_trainPCA = sc.fit_transform(x_trainPCA) \n",
    "x_testPCA = sc.transform(x_testPCA) \n",
    "pca = PCA(n_components = 8) \n",
    "  \n",
    "x_trainPCA = pca.fit_transform(x_trainPCA) \n",
    "x_testPCA = pca.transform(x_testPCA) \n",
    "  \n",
    "explained_variance = pca.explained_variance_ratio_ "
   ]
  },
  {
   "cell_type": "code",
   "execution_count": 20,
   "metadata": {},
   "outputs": [
    {
     "data": {
      "text/plain": [
       "0.7346041601469944"
      ]
     },
     "execution_count": 20,
     "metadata": {},
     "output_type": "execute_result"
    }
   ],
   "source": [
    "sum(explained_variance)"
   ]
  },
  {
   "cell_type": "code",
   "execution_count": 21,
   "metadata": {},
   "outputs": [
    {
     "name": "stdout",
     "output_type": "stream",
     "text": [
      "(22500, 18) (7500, 18) (22500,) (7500,)\n",
      "(22500, 18) (7500, 18) (22500,) (7500,)\n",
      "(22500, 4) (7500, 4) (22500,) (7500,)\n",
      "(22500, 8) (7500, 8) (22500,) (7500,)\n"
     ]
    }
   ],
   "source": [
    "print(x_train.shape, x_test.shape, y_train.shape,y_test.shape)\n",
    "print(x_trainCOR.shape, x_testCOR.shape, y_trainCOR.shape,y_testCOR.shape)\n",
    "print(x_trainRFE.shape, x_testRFE.shape, y_trainRFE.shape,y_testRFE.shape)\n",
    "print(x_trainPCA.shape, x_testPCA.shape, y_trainPCA.shape,y_testPCA.shape)"
   ]
  },
  {
   "cell_type": "markdown",
   "metadata": {},
   "source": [
    "## Ajuste, puntuación y predicción sobre el conjunto de entrenamiento utilizando el conjunto de datos con todos los atributos. Se evaluan 4 algoritmos distintos. \n",
    "* KNeighborsClassifier\n",
    "* SVC\n",
    "* GaussianNB\n",
    "* DecisionTreeClassifier\n"
   ]
  },
  {
   "cell_type": "code",
   "execution_count": 22,
   "metadata": {},
   "outputs": [
    {
     "name": "stdout",
     "output_type": "stream",
     "text": [
      "0.7730666666666667\n",
      "[[5798 1702]\n",
      " [   0    0]]\n",
      "              precision    recall  f1-score   support\n",
      "\n",
      "           0       1.00      0.77      0.87      7500\n",
      "           1       0.00      0.00      0.00         0\n",
      "\n",
      "    accuracy                           0.77      7500\n",
      "   macro avg       0.50      0.39      0.44      7500\n",
      "weighted avg       1.00      0.77      0.87      7500\n",
      "\n"
     ]
    },
    {
     "name": "stderr",
     "output_type": "stream",
     "text": [
      "C:\\Users\\jorrodro\\Anaconda3\\lib\\site-packages\\sklearn\\metrics\\_classification.py:1272: UndefinedMetricWarning: Recall and F-score are ill-defined and being set to 0.0 in labels with no true samples. Use `zero_division` parameter to control this behavior.\n",
      "  _warn_prf(average, modifier, msg_start, len(result))\n"
     ]
    }
   ],
   "source": [
    "modelSVC.fit(x_train,y_train)\n",
    "SVC_prediction = modelSVC.predict(x_test)\n",
    "print(accuracy_score(SVC_prediction, y_test))\n",
    "print(confusion_matrix(SVC_prediction, y_test))\n",
    "print(classification_report(SVC_prediction, y_test))"
   ]
  },
  {
   "cell_type": "code",
   "execution_count": 23,
   "metadata": {},
   "outputs": [
    {
     "name": "stdout",
     "output_type": "stream",
     "text": [
      "0.7529333333333333\n",
      "[[5383 1438]\n",
      " [ 415  264]]\n",
      "              precision    recall  f1-score   support\n",
      "\n",
      "           0       0.93      0.79      0.85      6821\n",
      "           1       0.16      0.39      0.22       679\n",
      "\n",
      "    accuracy                           0.75      7500\n",
      "   macro avg       0.54      0.59      0.54      7500\n",
      "weighted avg       0.86      0.75      0.80      7500\n",
      "\n"
     ]
    }
   ],
   "source": [
    "modelKN.fit(x_train,y_train)\n",
    "KN_prediction = modelKN.predict(x_test)\n",
    "print(accuracy_score(KN_prediction, y_test))\n",
    "print(confusion_matrix(KN_prediction, y_test))\n",
    "print(classification_report(KN_prediction, y_test))"
   ]
  },
  {
   "cell_type": "code",
   "execution_count": 24,
   "metadata": {},
   "outputs": [
    {
     "name": "stdout",
     "output_type": "stream",
     "text": [
      "0.37906666666666666\n",
      "[[1334  193]\n",
      " [4464 1509]]\n",
      "              precision    recall  f1-score   support\n",
      "\n",
      "           0       0.23      0.87      0.36      1527\n",
      "           1       0.89      0.25      0.39      5973\n",
      "\n",
      "    accuracy                           0.38      7500\n",
      "   macro avg       0.56      0.56      0.38      7500\n",
      "weighted avg       0.75      0.38      0.39      7500\n",
      "\n"
     ]
    }
   ],
   "source": [
    "modelGNB.fit(x_train,y_train)\n",
    "GNB_prediction = modelGNB.predict(x_test)\n",
    "print(accuracy_score(GNB_prediction, y_test))\n",
    "print(confusion_matrix(GNB_prediction, y_test))\n",
    "print(classification_report(GNB_prediction, y_test))"
   ]
  },
  {
   "cell_type": "code",
   "execution_count": 25,
   "metadata": {},
   "outputs": [
    {
     "name": "stdout",
     "output_type": "stream",
     "text": [
      "0.7269333333333333\n",
      "[[4723  973]\n",
      " [1075  729]]\n",
      "              precision    recall  f1-score   support\n",
      "\n",
      "           0       0.81      0.83      0.82      5696\n",
      "           1       0.43      0.40      0.42      1804\n",
      "\n",
      "    accuracy                           0.73      7500\n",
      "   macro avg       0.62      0.62      0.62      7500\n",
      "weighted avg       0.72      0.73      0.72      7500\n",
      "\n"
     ]
    }
   ],
   "source": [
    "modelDT.fit(x_train,y_train)\n",
    "DT_prediction = modelDT.predict(x_test)\n",
    "print(accuracy_score(DT_prediction, y_test))\n",
    "print(confusion_matrix(DT_prediction, y_test))\n",
    "print(classification_report(DT_prediction, y_test))"
   ]
  },
  {
   "cell_type": "markdown",
   "metadata": {},
   "source": [
    "## De acuerdo a los resultados anteriores el mejor rendimiento es ofrecido por el SVC y el rendimiento mas bajo es del método GaussianNB"
   ]
  },
  {
   "cell_type": "code",
   "execution_count": null,
   "metadata": {},
   "outputs": [],
   "source": []
  },
  {
   "cell_type": "markdown",
   "metadata": {},
   "source": [
    "## Los siguientes pasos se evaluan los métodos eliminando los atributos con menor importancia utilizando el proceso RFE."
   ]
  },
  {
   "cell_type": "code",
   "execution_count": 26,
   "metadata": {},
   "outputs": [
    {
     "name": "stdout",
     "output_type": "stream",
     "text": [
      "0.7746666666666666\n",
      "[[5810 1690]\n",
      " [   0    0]]\n",
      "              precision    recall  f1-score   support\n",
      "\n",
      "           0       1.00      0.77      0.87      7500\n",
      "           1       0.00      0.00      0.00         0\n",
      "\n",
      "    accuracy                           0.77      7500\n",
      "   macro avg       0.50      0.39      0.44      7500\n",
      "weighted avg       1.00      0.77      0.87      7500\n",
      "\n"
     ]
    },
    {
     "name": "stderr",
     "output_type": "stream",
     "text": [
      "C:\\Users\\jorrodro\\Anaconda3\\lib\\site-packages\\sklearn\\metrics\\_classification.py:1272: UndefinedMetricWarning: Recall and F-score are ill-defined and being set to 0.0 in labels with no true samples. Use `zero_division` parameter to control this behavior.\n",
      "  _warn_prf(average, modifier, msg_start, len(result))\n"
     ]
    }
   ],
   "source": [
    "modelSVCCOR.fit(x_trainCOR,y_trainCOR)\n",
    "SVC_predictionCOR = modelSVCCOR.predict(x_testCOR)\n",
    "print(accuracy_score(SVC_predictionCOR, y_testCOR))\n",
    "print(confusion_matrix(SVC_predictionCOR, y_testCOR))\n",
    "print(classification_report(SVC_predictionCOR, y_testCOR))"
   ]
  },
  {
   "cell_type": "code",
   "execution_count": 27,
   "metadata": {},
   "outputs": [
    {
     "name": "stdout",
     "output_type": "stream",
     "text": [
      "0.7521333333333333\n",
      "[[5360 1409]\n",
      " [ 450  281]]\n",
      "              precision    recall  f1-score   support\n",
      "\n",
      "           0       0.92      0.79      0.85      6769\n",
      "           1       0.17      0.38      0.23       731\n",
      "\n",
      "    accuracy                           0.75      7500\n",
      "   macro avg       0.54      0.59      0.54      7500\n",
      "weighted avg       0.85      0.75      0.79      7500\n",
      "\n"
     ]
    }
   ],
   "source": [
    "modelKNCOR.fit(x_trainCOR,y_trainCOR)\n",
    "KN_predictionCOR = modelKNCOR.predict(x_testCOR)\n",
    "print(accuracy_score(KN_predictionCOR, y_testCOR))\n",
    "print(confusion_matrix(KN_predictionCOR, y_testCOR))\n",
    "print(classification_report(KN_predictionCOR, y_testCOR))"
   ]
  },
  {
   "cell_type": "code",
   "execution_count": 28,
   "metadata": {},
   "outputs": [
    {
     "name": "stdout",
     "output_type": "stream",
     "text": [
      "0.38333333333333336\n",
      "[[1379  194]\n",
      " [4431 1496]]\n",
      "              precision    recall  f1-score   support\n",
      "\n",
      "           0       0.24      0.88      0.37      1573\n",
      "           1       0.89      0.25      0.39      5927\n",
      "\n",
      "    accuracy                           0.38      7500\n",
      "   macro avg       0.56      0.56      0.38      7500\n",
      "weighted avg       0.75      0.38      0.39      7500\n",
      "\n"
     ]
    }
   ],
   "source": [
    "modelGNBCOR.fit(x_trainCOR,y_trainCOR)\n",
    "GNB_predictionCOR = modelGNBCOR.predict(x_testCOR)\n",
    "print(accuracy_score(GNB_predictionCOR, y_testCOR))\n",
    "print(confusion_matrix(GNB_predictionCOR, y_testCOR))\n",
    "print(classification_report(GNB_predictionCOR, y_testCOR))"
   ]
  },
  {
   "cell_type": "code",
   "execution_count": 29,
   "metadata": {},
   "outputs": [
    {
     "name": "stdout",
     "output_type": "stream",
     "text": [
      "0.7306666666666667\n",
      "[[4759  969]\n",
      " [1051  721]]\n",
      "              precision    recall  f1-score   support\n",
      "\n",
      "           0       0.82      0.83      0.82      5728\n",
      "           1       0.43      0.41      0.42      1772\n",
      "\n",
      "    accuracy                           0.73      7500\n",
      "   macro avg       0.62      0.62      0.62      7500\n",
      "weighted avg       0.73      0.73      0.73      7500\n",
      "\n"
     ]
    }
   ],
   "source": [
    "modelDTCOR.fit(x_trainCOR,y_trainCOR)\n",
    "DT_predictionCOR = modelDTCOR.predict(x_testCOR)\n",
    "print(accuracy_score(DT_predictionCOR, y_testCOR))\n",
    "print(confusion_matrix(DT_predictionCOR, y_testCOR))\n",
    "print(classification_report(DT_predictionCOR, y_testCOR))"
   ]
  },
  {
   "cell_type": "markdown",
   "metadata": {},
   "source": [
    "## De acuerdo a los resultados anteriores el mejor rendimiento es ofrecido por el SVC y el rendimiento mas bajo es del método GaussianNB"
   ]
  },
  {
   "cell_type": "code",
   "execution_count": null,
   "metadata": {},
   "outputs": [],
   "source": []
  },
  {
   "cell_type": "markdown",
   "metadata": {},
   "source": [
    "## Los siguientes pasos se evaluan los métodos eliminando los atributos que presentan correlación."
   ]
  },
  {
   "cell_type": "code",
   "execution_count": 30,
   "metadata": {},
   "outputs": [
    {
     "name": "stdout",
     "output_type": "stream",
     "text": [
      "0.7830666666666667\n",
      "[[5871 1625]\n",
      " [   2    2]]\n",
      "              precision    recall  f1-score   support\n",
      "\n",
      "           0       1.00      0.78      0.88      7496\n",
      "           1       0.00      0.50      0.00         4\n",
      "\n",
      "    accuracy                           0.78      7500\n",
      "   macro avg       0.50      0.64      0.44      7500\n",
      "weighted avg       1.00      0.78      0.88      7500\n",
      "\n"
     ]
    }
   ],
   "source": [
    "modelSVCRFE.fit(x_trainRFE,y_trainRFE)\n",
    "SVC_predictionRFE = modelSVCRFE.predict(x_testRFE)\n",
    "print(accuracy_score(SVC_predictionRFE, y_testRFE))\n",
    "print(confusion_matrix(SVC_predictionRFE, y_testRFE))\n",
    "print(classification_report(SVC_predictionRFE, y_testRFE))"
   ]
  },
  {
   "cell_type": "code",
   "execution_count": 31,
   "metadata": {},
   "outputs": [
    {
     "name": "stdout",
     "output_type": "stream",
     "text": [
      "0.7576\n",
      "[[5456 1401]\n",
      " [ 417  226]]\n",
      "              precision    recall  f1-score   support\n",
      "\n",
      "           0       0.93      0.80      0.86      6857\n",
      "           1       0.14      0.35      0.20       643\n",
      "\n",
      "    accuracy                           0.76      7500\n",
      "   macro avg       0.53      0.57      0.53      7500\n",
      "weighted avg       0.86      0.76      0.80      7500\n",
      "\n"
     ]
    }
   ],
   "source": [
    "modelKNRFE.fit(x_trainRFE,y_trainRFE)\n",
    "KN_predictionRFE = modelKNRFE.predict(x_testRFE)\n",
    "print(accuracy_score(KN_predictionRFE, y_testRFE))\n",
    "print(confusion_matrix(KN_predictionRFE, y_testRFE))\n",
    "print(classification_report(KN_predictionRFE, y_testRFE))"
   ]
  },
  {
   "cell_type": "code",
   "execution_count": 32,
   "metadata": {},
   "outputs": [
    {
     "name": "stdout",
     "output_type": "stream",
     "text": [
      "0.7830666666666667\n",
      "[[5872 1626]\n",
      " [   1    1]]\n",
      "              precision    recall  f1-score   support\n",
      "\n",
      "           0       1.00      0.78      0.88      7498\n",
      "           1       0.00      0.50      0.00         2\n",
      "\n",
      "    accuracy                           0.78      7500\n",
      "   macro avg       0.50      0.64      0.44      7500\n",
      "weighted avg       1.00      0.78      0.88      7500\n",
      "\n"
     ]
    }
   ],
   "source": [
    "modelGNBRFE.fit(x_trainRFE,y_trainRFE)\n",
    "GNB_predictionRFE = modelGNBRFE.predict(x_testRFE)\n",
    "print(accuracy_score(GNB_predictionRFE, y_testRFE))\n",
    "print(confusion_matrix(GNB_predictionRFE, y_testRFE))\n",
    "print(classification_report(GNB_predictionRFE, y_testRFE))"
   ]
  },
  {
   "cell_type": "code",
   "execution_count": 129,
   "metadata": {},
   "outputs": [
    {
     "name": "stdout",
     "output_type": "stream",
     "text": [
      "0.7244\n",
      "[[4857 1051]\n",
      " [1016  576]]\n",
      "              precision    recall  f1-score   support\n",
      "\n",
      "           0       0.83      0.82      0.82      5908\n",
      "           1       0.35      0.36      0.36      1592\n",
      "\n",
      "    accuracy                           0.72      7500\n",
      "   macro avg       0.59      0.59      0.59      7500\n",
      "weighted avg       0.73      0.72      0.73      7500\n",
      "\n"
     ]
    }
   ],
   "source": [
    "modelDTRFE.fit(x_trainRFE,y_trainRFE)\n",
    "DT_predictionRFE = modelDTRFE.predict(x_testRFE)\n",
    "print(accuracy_score(DT_predictionRFE, y_testRFE))\n",
    "print(confusion_matrix(DT_predictionRFE, y_testRFE))\n",
    "print(classification_report(DT_predictionRFE, y_testRFE))"
   ]
  },
  {
   "cell_type": "markdown",
   "metadata": {},
   "source": [
    "## De acuerdo a los resultados anteriores el mejor rendimiento es ofrecido por el SVC y el  método GaussianNB, mientras que el resultado mas bajo lo presenta el DecisionTreeClassifier"
   ]
  },
  {
   "cell_type": "code",
   "execution_count": null,
   "metadata": {},
   "outputs": [],
   "source": []
  },
  {
   "cell_type": "markdown",
   "metadata": {},
   "source": [
    "## Finalmente se utilizan los 4 algoritmos con el conjunto de datos dejando solo los atributos con mayor varianza."
   ]
  },
  {
   "cell_type": "code",
   "execution_count": 34,
   "metadata": {},
   "outputs": [
    {
     "name": "stdout",
     "output_type": "stream",
     "text": [
      "0.808\n",
      "[[5639 1210]\n",
      " [ 230  421]]\n",
      "              precision    recall  f1-score   support\n",
      "\n",
      "           0       0.96      0.82      0.89      6849\n",
      "           1       0.26      0.65      0.37       651\n",
      "\n",
      "    accuracy                           0.81      7500\n",
      "   macro avg       0.61      0.74      0.63      7500\n",
      "weighted avg       0.90      0.81      0.84      7500\n",
      "\n"
     ]
    }
   ],
   "source": [
    "modelSVCPCA.fit(x_trainPCA,y_trainPCA)\n",
    "SVC_predictionPCA = modelSVCPCA.predict(x_testPCA)\n",
    "print(accuracy_score(SVC_predictionPCA, y_testPCA))\n",
    "print(confusion_matrix(SVC_predictionPCA, y_testPCA))\n",
    "print(classification_report(SVC_predictionPCA, y_testPCA))"
   ]
  },
  {
   "cell_type": "code",
   "execution_count": 35,
   "metadata": {},
   "outputs": [
    {
     "name": "stdout",
     "output_type": "stream",
     "text": [
      "0.7905333333333333\n",
      "[[5406 1108]\n",
      " [ 463  523]]\n",
      "              precision    recall  f1-score   support\n",
      "\n",
      "           0       0.92      0.83      0.87      6514\n",
      "           1       0.32      0.53      0.40       986\n",
      "\n",
      "    accuracy                           0.79      7500\n",
      "   macro avg       0.62      0.68      0.64      7500\n",
      "weighted avg       0.84      0.79      0.81      7500\n",
      "\n"
     ]
    }
   ],
   "source": [
    "modelKNPCA.fit(x_trainPCA,y_trainPCA)\n",
    "KN_predictionPCA = modelKNPCA.predict(x_testPCA)\n",
    "print(accuracy_score(KN_predictionPCA, y_testPCA))\n",
    "print(confusion_matrix(KN_predictionPCA, y_testPCA))\n",
    "print(classification_report(KN_predictionPCA, y_testPCA))"
   ]
  },
  {
   "cell_type": "code",
   "execution_count": 36,
   "metadata": {},
   "outputs": [
    {
     "name": "stdout",
     "output_type": "stream",
     "text": [
      "0.792\n",
      "[[5278  969]\n",
      " [ 591  662]]\n",
      "              precision    recall  f1-score   support\n",
      "\n",
      "           0       0.90      0.84      0.87      6247\n",
      "           1       0.41      0.53      0.46      1253\n",
      "\n",
      "    accuracy                           0.79      7500\n",
      "   macro avg       0.65      0.69      0.67      7500\n",
      "weighted avg       0.82      0.79      0.80      7500\n",
      "\n"
     ]
    }
   ],
   "source": [
    "modelGNBPCA.fit(x_trainPCA,y_trainPCA)\n",
    "GNB_predictionPCA = modelGNBPCA.predict(x_testPCA)\n",
    "print(accuracy_score(GNB_predictionPCA, y_testPCA))\n",
    "print(confusion_matrix(GNB_predictionPCA, y_testPCA))\n",
    "print(classification_report(GNB_predictionPCA, y_testPCA))"
   ]
  },
  {
   "cell_type": "code",
   "execution_count": 37,
   "metadata": {},
   "outputs": [
    {
     "name": "stdout",
     "output_type": "stream",
     "text": [
      "0.7165333333333334\n",
      "[[4739  996]\n",
      " [1130  635]]\n",
      "              precision    recall  f1-score   support\n",
      "\n",
      "           0       0.81      0.83      0.82      5735\n",
      "           1       0.39      0.36      0.37      1765\n",
      "\n",
      "    accuracy                           0.72      7500\n",
      "   macro avg       0.60      0.59      0.60      7500\n",
      "weighted avg       0.71      0.72      0.71      7500\n",
      "\n"
     ]
    }
   ],
   "source": [
    "modelDTPCA.fit(x_trainPCA,y_trainPCA)\n",
    "DT_predictionPCA = modelDTPCA.predict(x_testPCA)\n",
    "print(accuracy_score(DT_predictionPCA, y_testPCA))\n",
    "print(confusion_matrix(DT_predictionPCA, y_testPCA))\n",
    "print(classification_report(DT_predictionPCA, y_testPCA))"
   ]
  },
  {
   "cell_type": "markdown",
   "metadata": {},
   "source": [
    "## De acuerdo a los resultados anteriores el mejor rendimiento es ofrecido por el SVC y el  método GaussianNB, mientras que el resultado mas bajo lo presenta el DecisionTreeClassifier"
   ]
  },
  {
   "cell_type": "code",
   "execution_count": null,
   "metadata": {},
   "outputs": [],
   "source": []
  },
  {
   "cell_type": "markdown",
   "metadata": {},
   "source": [
    "## Se realiza optimización sobre los dos métodos con mejor rendimiento, ajustando los parametros C y gamma para el SVC y var_smoothing y priors para el algoritmo GaussianNB. \n",
    "## El mejor resultado es obtenido con SVC utilizando gamma='auto' y C=3.3"
   ]
  },
  {
   "cell_type": "code",
   "execution_count": 127,
   "metadata": {},
   "outputs": [
    {
     "name": "stdout",
     "output_type": "stream",
     "text": [
      "0.8109333333333333\n",
      "[[5618 1167]\n",
      " [ 251  464]]\n",
      "              precision    recall  f1-score   support\n",
      "\n",
      "           0       0.96      0.83      0.89      6785\n",
      "           1       0.28      0.65      0.40       715\n",
      "\n",
      "    accuracy                           0.81      7500\n",
      "   macro avg       0.62      0.74      0.64      7500\n",
      "weighted avg       0.89      0.81      0.84      7500\n",
      "\n"
     ]
    }
   ],
   "source": [
    "modelSVCPCA = SVC(C=3.2,gamma='auto')\n",
    "modelSVCPCA.fit(x_trainPCA,y_trainPCA)\n",
    "SVC_predictionPCA = modelSVCPCA.predict(x_testPCA)\n",
    "print(accuracy_score(SVC_predictionPCA, y_testPCA))\n",
    "print(confusion_matrix(SVC_predictionPCA, y_testPCA))\n",
    "print(classification_report(SVC_predictionPCA, y_testPCA))"
   ]
  },
  {
   "cell_type": "code",
   "execution_count": 102,
   "metadata": {},
   "outputs": [
    {
     "name": "stdout",
     "output_type": "stream",
     "text": [
      "0.808\n",
      "[[5547 1118]\n",
      " [ 322  513]]\n",
      "              precision    recall  f1-score   support\n",
      "\n",
      "           0       0.95      0.83      0.89      6665\n",
      "           1       0.31      0.61      0.42       835\n",
      "\n",
      "    accuracy                           0.81      7500\n",
      "   macro avg       0.63      0.72      0.65      7500\n",
      "weighted avg       0.87      0.81      0.83      7500\n",
      "\n"
     ]
    }
   ],
   "source": [
    "modelGNBPCA = GaussianNB(var_smoothing=0.131,priors=[0.759,0.241])\n",
    "modelGNBPCA.fit(x_trainPCA,y_trainPCA)\n",
    "GNB_predictionPCA = modelGNBPCA.predict(x_testPCA)\n",
    "print(accuracy_score(GNB_predictionPCA, y_testPCA))\n",
    "print(confusion_matrix(GNB_predictionPCA, y_testPCA))\n",
    "print(classification_report(GNB_predictionPCA, y_testPCA))"
   ]
  },
  {
   "cell_type": "markdown",
   "metadata": {},
   "source": [
    "## Se intenta realizar una búsqueda automática de parámetros óptimos para el algoritmo SVC pero duración es extrema por lo que se ópta por realizalo de forma manual."
   ]
  },
  {
   "cell_type": "raw",
   "metadata": {},
   "source": [
    "from sklearn.model_selection import GridSearchCV\n",
    "tuned_parameters = [{'kernel': ['rbf'], 'gamma': [1e-3, 1e-4],\n",
    "                     'C': [1, 10, 100, 1000]},\n",
    "                    {'kernel': ['linear'], 'C': [1, 10, 100, 1000]}]\n",
    "\n",
    "scores = ['precision', 'recall']\n",
    "\n",
    "for score in scores:\n",
    "    print(\"# Tuning hyper-parameters for %s\" % score)\n",
    "    print()\n",
    "\n",
    "    modelSVCPCA = GridSearchCV(\n",
    "        SVC(), tuned_parameters, scoring='%s_macro' % score\n",
    "    )\n",
    "    modelSVCPCA.fit(x_trainPCA, y_trainPCA)\n",
    "\n",
    "    print(\"Best parameters set found on development set:\")\n",
    "    print()\n",
    "    print(modelSVCPCA.best_params_)\n",
    "    print()\n",
    "    print(\"Grid scores on development set:\")\n",
    "    print()\n",
    "    means = modelSVCPCA.cv_results_['mean_test_score']\n",
    "    stds = modelSVCPCA.cv_results_['std_test_score']\n",
    "    for mean, std, params in zip(means, stds, modelSVCPCA.cv_results_['params']):\n",
    "        print(\"%0.3f (+/-%0.03f) for %r\"\n",
    "              % (mean, std * 2, params))\n",
    "    print()\n",
    "\n",
    "    print(\"Detailed classification report:\")\n",
    "    print()\n",
    "    print(\"The model is trained on the full development set.\")\n",
    "    print(\"The scores are computed on the full evaluation set.\")\n",
    "    print()\n",
    "    y_true, y_pred = y_testPCA, modelSVCPCA.predict(x_testPCA)\n",
    "    print(classification_report(y_true, y_pred))\n",
    "    print()\n"
   ]
  }
 ],
 "metadata": {
  "kernelspec": {
   "display_name": "Python 3",
   "language": "python",
   "name": "python3"
  },
  "language_info": {
   "codemirror_mode": {
    "name": "ipython",
    "version": 3
   },
   "file_extension": ".py",
   "mimetype": "text/x-python",
   "name": "python",
   "nbconvert_exporter": "python",
   "pygments_lexer": "ipython3",
   "version": "3.7.4"
  }
 },
 "nbformat": 4,
 "nbformat_minor": 2
}
